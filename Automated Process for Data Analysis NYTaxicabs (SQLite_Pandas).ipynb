{
 "cells": [
  {
   "cell_type": "markdown",
   "metadata": {},
   "source": [
    "# Data Analysis / *Análisis de Datos*\n",
    "(Using SQLite, Pandas, Matplotlib, numpy, and os module)\n",
    "<h1 style=\"font-size:1.5em;color:#2467C0\">The Scope / Objetivo </h1>\n",
    "(EN) I will use the information gathered from .csv files to see the relationship between the date-time and taxicabs service requiring.\n",
    "\n",
    "Also this notebook will be the core of the code that will be run to process the rest of the files in the data set. But with some additional commands to use it in an automated fashion. It could be implemented inside a function and things like that, but I'm going to leave it as it's shown.\n",
    "\n",
    "*(ES) Usaré la información obtenida de archivos .csv para observar la relación entre las fechas-horas y las solicitudes de servicios de taxi.*\n",
    "\n",
    "*A su vez, usaré el código que desarrollo y comento aquí, como parte central del código que aplicaré al resto de archivos, agregando algunos comandos adicionales con la intención de que sea un proceso automatizado. El código podría ser implementado dentro de una función y cosas por el estilo, pero voy a dejarlo como se muestra a continuación*"
   ]
  },
  {
   "cell_type": "markdown",
   "metadata": {},
   "source": [
    "### (EN)\n",
    "### Acquiring Data\n",
    "* Downloading the files with the information\n",
    "\n",
    "### Preparing Data\n",
    "(Pandas, os module)\n",
    "* Exploring and Cleaning Data\n",
    "* NaN or null values\n",
    "* Data quality review\n",
    "* Cleaning using filters\n",
    "\n",
    "### Plotting\n",
    "(Matplotlib, numpy)\n",
    "### Analysis and Report comments\n",
    "\n",
    "### Process automation\n",
    "(os module)\n",
    "\n",
    "### From Data to Database using SQLite3\n",
    "(SQLite3)\n",
    "* Creating a database\n",
    "* Feeding the database with tables  \n",
    "---\n",
    "<br/>\n",
    "\n",
    "### *(ES)*\n",
    "### *Adquisición de datos*\n",
    "* *Descarga de archivos que contienen la información a tratar*\n",
    "\n",
    "### *Acondicionamiento de Datos*\n",
    "(Pandas, módulo os)\n",
    "* *Exploración y limpieza de la información*\n",
    "* *NaN o valores nulos*\n",
    "* *Otras revisiones sobre la calidad de los datos*\n",
    "* *Limpieza usando filtros*\n",
    "\n",
    "### *Gráficos*\n",
    "(Matplotlib, numpy)\n",
    "### *Reporte y comentarios sobre el análisis*\n",
    "\n",
    "### *Automatización del proceso*\n",
    "(módulo os)\n",
    "\n",
    "### *De archivo de Datos a Base de Datos usando SQLite3*\n",
    "(SQLite3)\n",
    "* *Crear una Base de Datos*\n",
    "* *Agregar las tablas a la Base de Datos*\n",
    "---"
   ]
  },
  {
   "cell_type": "markdown",
   "metadata": {},
   "source": [
    "### Acquiring Data\n",
    "I got these files from **NYC Taxi & Limousine Commision**, special thanks to them for sharing this information, the URL to find them is: \n",
    "\n",
    "http://www.nyc.gov/html/tlc/html/about/trip_record_data.shtml \n",
    "\n",
    "In this sample, the source file information are files from 2016, 2017 and 2018 in .csv format.\n",
    "\n",
    "### *Adquisición de datos*\n",
    "*Obtuve los archivos de **NYC Taxi & Limousine Commision**, agradecimientos especiales a ellos por compartir esta información, la dirección en la que se puede encontrar dichos archivos es:*\n",
    "\n",
    "*http://www.nyc.gov/html/tlc/html/about/trip_record_data.shtml*\n",
    "\n",
    "*En este ejemplo, los archivos usados como fuente de información son de 2016, 2017 y 2018 en formato .csv*  \n",
    "\n",
    "---"
   ]
  },
  {
   "cell_type": "markdown",
   "metadata": {},
   "source": [
    "### Preparing Data\n",
    "#### Exploring and Cleaning Data\n",
    "Once the information is obtained, next step is to have an overall view of it, explore it and remove errors, empty fields (or fill them if the case), lack of information, null values and/or what is not right nor useful.\n",
    "\n",
    "### *Acondicionar los datos*\n",
    "#### *Exploración y limpieza de la información* \n",
    "*Una vez que la información es obtenida, es importante crear una visión general de la misma, explorarla y eliminar errores, campos vacíos (o completarlos si es el caso), faltas de información, valores nulos y/o lo que no está bien ni es útil.*"
   ]
  },
  {
   "cell_type": "code",
   "execution_count": 1,
   "metadata": {},
   "outputs": [],
   "source": [
    "# Modules to use along the code // Módulos a utilizar a lo largo del código.\n",
    "import pandas as pd\n",
    "import matplotlib.pyplot as plt\n",
    "import numpy as np\n",
    "import os\n",
    "import operator\n",
    "import sqlite3\n",
    "%matplotlib inline"
   ]
  },
  {
   "cell_type": "markdown",
   "metadata": {},
   "source": [
    "(EN) To get an idea of the dataframe dimensions, columns and header records, I'll do the following.\n",
    "\n",
    "*(ES) Para tener una idea de las dimensiones de los datos (dataframe), columnas y primeros registros, haré lo siguiente.*"
   ]
  },
  {
   "cell_type": "code",
   "execution_count": 2,
   "metadata": {},
   "outputs": [
    {
     "name": "stdout",
     "output_type": "stream",
     "text": [
      "(1445285, 21)\n"
     ]
    }
   ],
   "source": [
    "currentDf = pd.read_csv('green_tripdata_2016-01.csv', sep = ',') \n",
    "print(currentDf.shape)"
   ]
  },
  {
   "cell_type": "code",
   "execution_count": 3,
   "metadata": {},
   "outputs": [
    {
     "name": "stdout",
     "output_type": "stream",
     "text": [
      "Index(['VendorID', 'lpep_pickup_datetime', 'Lpep_dropoff_datetime',\n",
      "       'Store_and_fwd_flag', 'RateCodeID', 'Pickup_longitude',\n",
      "       'Pickup_latitude', 'Dropoff_longitude', 'Dropoff_latitude',\n",
      "       'Passenger_count', 'Trip_distance', 'Fare_amount', 'Extra', 'MTA_tax',\n",
      "       'Tip_amount', 'Tolls_amount', 'Ehail_fee', 'improvement_surcharge',\n",
      "       'Total_amount', 'Payment_type', 'Trip_type '],\n",
      "      dtype='object')\n"
     ]
    }
   ],
   "source": [
    "cols = currentDf.columns\n",
    "print(cols)"
   ]
  },
  {
   "cell_type": "code",
   "execution_count": 4,
   "metadata": {},
   "outputs": [
    {
     "data": {
      "text/plain": [
       "pandas.core.frame.DataFrame"
      ]
     },
     "execution_count": 4,
     "metadata": {},
     "output_type": "execute_result"
    }
   ],
   "source": [
    "type(currentDf)"
   ]
  },
  {
   "cell_type": "code",
   "execution_count": 5,
   "metadata": {},
   "outputs": [
    {
     "data": {
      "text/html": [
       "<div>\n",
       "<style scoped>\n",
       "    .dataframe tbody tr th:only-of-type {\n",
       "        vertical-align: middle;\n",
       "    }\n",
       "\n",
       "    .dataframe tbody tr th {\n",
       "        vertical-align: top;\n",
       "    }\n",
       "\n",
       "    .dataframe thead th {\n",
       "        text-align: right;\n",
       "    }\n",
       "</style>\n",
       "<table border=\"1\" class=\"dataframe\">\n",
       "  <thead>\n",
       "    <tr style=\"text-align: right;\">\n",
       "      <th></th>\n",
       "      <th>VendorID</th>\n",
       "      <th>lpep_pickup_datetime</th>\n",
       "      <th>Lpep_dropoff_datetime</th>\n",
       "      <th>Store_and_fwd_flag</th>\n",
       "      <th>RateCodeID</th>\n",
       "      <th>Pickup_longitude</th>\n",
       "      <th>Pickup_latitude</th>\n",
       "      <th>Dropoff_longitude</th>\n",
       "      <th>Dropoff_latitude</th>\n",
       "      <th>Passenger_count</th>\n",
       "      <th>...</th>\n",
       "      <th>Fare_amount</th>\n",
       "      <th>Extra</th>\n",
       "      <th>MTA_tax</th>\n",
       "      <th>Tip_amount</th>\n",
       "      <th>Tolls_amount</th>\n",
       "      <th>Ehail_fee</th>\n",
       "      <th>improvement_surcharge</th>\n",
       "      <th>Total_amount</th>\n",
       "      <th>Payment_type</th>\n",
       "      <th>Trip_type</th>\n",
       "    </tr>\n",
       "  </thead>\n",
       "  <tbody>\n",
       "    <tr>\n",
       "      <th>0</th>\n",
       "      <td>2</td>\n",
       "      <td>2016-01-01 00:29:24</td>\n",
       "      <td>2016-01-01 00:39:36</td>\n",
       "      <td>N</td>\n",
       "      <td>1</td>\n",
       "      <td>-73.928642</td>\n",
       "      <td>40.680611</td>\n",
       "      <td>-73.924278</td>\n",
       "      <td>40.698044</td>\n",
       "      <td>1</td>\n",
       "      <td>...</td>\n",
       "      <td>8.0</td>\n",
       "      <td>0.5</td>\n",
       "      <td>0.5</td>\n",
       "      <td>1.86</td>\n",
       "      <td>0.0</td>\n",
       "      <td>NaN</td>\n",
       "      <td>0.3</td>\n",
       "      <td>11.16</td>\n",
       "      <td>1</td>\n",
       "      <td>1.0</td>\n",
       "    </tr>\n",
       "    <tr>\n",
       "      <th>1</th>\n",
       "      <td>2</td>\n",
       "      <td>2016-01-01 00:19:39</td>\n",
       "      <td>2016-01-01 00:39:18</td>\n",
       "      <td>N</td>\n",
       "      <td>1</td>\n",
       "      <td>-73.952675</td>\n",
       "      <td>40.723175</td>\n",
       "      <td>-73.923920</td>\n",
       "      <td>40.761379</td>\n",
       "      <td>1</td>\n",
       "      <td>...</td>\n",
       "      <td>15.5</td>\n",
       "      <td>0.5</td>\n",
       "      <td>0.5</td>\n",
       "      <td>0.00</td>\n",
       "      <td>0.0</td>\n",
       "      <td>NaN</td>\n",
       "      <td>0.3</td>\n",
       "      <td>16.80</td>\n",
       "      <td>2</td>\n",
       "      <td>1.0</td>\n",
       "    </tr>\n",
       "    <tr>\n",
       "      <th>2</th>\n",
       "      <td>2</td>\n",
       "      <td>2016-01-01 00:19:33</td>\n",
       "      <td>2016-01-01 00:39:48</td>\n",
       "      <td>N</td>\n",
       "      <td>1</td>\n",
       "      <td>-73.971611</td>\n",
       "      <td>40.676105</td>\n",
       "      <td>-74.013161</td>\n",
       "      <td>40.646072</td>\n",
       "      <td>1</td>\n",
       "      <td>...</td>\n",
       "      <td>16.5</td>\n",
       "      <td>0.5</td>\n",
       "      <td>0.5</td>\n",
       "      <td>4.45</td>\n",
       "      <td>0.0</td>\n",
       "      <td>NaN</td>\n",
       "      <td>0.3</td>\n",
       "      <td>22.25</td>\n",
       "      <td>1</td>\n",
       "      <td>1.0</td>\n",
       "    </tr>\n",
       "    <tr>\n",
       "      <th>3</th>\n",
       "      <td>2</td>\n",
       "      <td>2016-01-01 00:22:12</td>\n",
       "      <td>2016-01-01 00:38:32</td>\n",
       "      <td>N</td>\n",
       "      <td>1</td>\n",
       "      <td>-73.989502</td>\n",
       "      <td>40.669579</td>\n",
       "      <td>-74.000648</td>\n",
       "      <td>40.689034</td>\n",
       "      <td>1</td>\n",
       "      <td>...</td>\n",
       "      <td>13.5</td>\n",
       "      <td>0.5</td>\n",
       "      <td>0.5</td>\n",
       "      <td>0.00</td>\n",
       "      <td>0.0</td>\n",
       "      <td>NaN</td>\n",
       "      <td>0.3</td>\n",
       "      <td>14.80</td>\n",
       "      <td>2</td>\n",
       "      <td>1.0</td>\n",
       "    </tr>\n",
       "    <tr>\n",
       "      <th>4</th>\n",
       "      <td>2</td>\n",
       "      <td>2016-01-01 00:24:01</td>\n",
       "      <td>2016-01-01 00:39:22</td>\n",
       "      <td>N</td>\n",
       "      <td>1</td>\n",
       "      <td>-73.964729</td>\n",
       "      <td>40.682854</td>\n",
       "      <td>-73.940720</td>\n",
       "      <td>40.663013</td>\n",
       "      <td>1</td>\n",
       "      <td>...</td>\n",
       "      <td>12.0</td>\n",
       "      <td>0.5</td>\n",
       "      <td>0.5</td>\n",
       "      <td>0.00</td>\n",
       "      <td>0.0</td>\n",
       "      <td>NaN</td>\n",
       "      <td>0.3</td>\n",
       "      <td>13.30</td>\n",
       "      <td>2</td>\n",
       "      <td>1.0</td>\n",
       "    </tr>\n",
       "    <tr>\n",
       "      <th>5</th>\n",
       "      <td>2</td>\n",
       "      <td>2016-01-01 00:32:59</td>\n",
       "      <td>2016-01-01 00:39:35</td>\n",
       "      <td>N</td>\n",
       "      <td>1</td>\n",
       "      <td>-73.891144</td>\n",
       "      <td>40.746456</td>\n",
       "      <td>-73.867744</td>\n",
       "      <td>40.742111</td>\n",
       "      <td>1</td>\n",
       "      <td>...</td>\n",
       "      <td>7.0</td>\n",
       "      <td>0.5</td>\n",
       "      <td>0.5</td>\n",
       "      <td>0.00</td>\n",
       "      <td>0.0</td>\n",
       "      <td>NaN</td>\n",
       "      <td>0.3</td>\n",
       "      <td>8.30</td>\n",
       "      <td>2</td>\n",
       "      <td>1.0</td>\n",
       "    </tr>\n",
       "    <tr>\n",
       "      <th>6</th>\n",
       "      <td>2</td>\n",
       "      <td>2016-01-01 00:34:42</td>\n",
       "      <td>2016-01-01 00:39:21</td>\n",
       "      <td>N</td>\n",
       "      <td>1</td>\n",
       "      <td>-73.896675</td>\n",
       "      <td>40.746197</td>\n",
       "      <td>-73.886192</td>\n",
       "      <td>40.745689</td>\n",
       "      <td>1</td>\n",
       "      <td>...</td>\n",
       "      <td>5.0</td>\n",
       "      <td>0.5</td>\n",
       "      <td>0.5</td>\n",
       "      <td>0.00</td>\n",
       "      <td>0.0</td>\n",
       "      <td>NaN</td>\n",
       "      <td>0.3</td>\n",
       "      <td>6.30</td>\n",
       "      <td>2</td>\n",
       "      <td>1.0</td>\n",
       "    </tr>\n",
       "    <tr>\n",
       "      <th>7</th>\n",
       "      <td>2</td>\n",
       "      <td>2016-01-01 00:31:23</td>\n",
       "      <td>2016-01-01 00:39:36</td>\n",
       "      <td>N</td>\n",
       "      <td>1</td>\n",
       "      <td>-73.953354</td>\n",
       "      <td>40.803558</td>\n",
       "      <td>-73.949150</td>\n",
       "      <td>40.794121</td>\n",
       "      <td>1</td>\n",
       "      <td>...</td>\n",
       "      <td>7.0</td>\n",
       "      <td>0.5</td>\n",
       "      <td>0.5</td>\n",
       "      <td>0.00</td>\n",
       "      <td>0.0</td>\n",
       "      <td>NaN</td>\n",
       "      <td>0.3</td>\n",
       "      <td>8.30</td>\n",
       "      <td>2</td>\n",
       "      <td>1.0</td>\n",
       "    </tr>\n",
       "    <tr>\n",
       "      <th>8</th>\n",
       "      <td>2</td>\n",
       "      <td>2016-01-01 00:24:40</td>\n",
       "      <td>2016-01-01 00:39:52</td>\n",
       "      <td>N</td>\n",
       "      <td>1</td>\n",
       "      <td>-73.994064</td>\n",
       "      <td>40.702816</td>\n",
       "      <td>-73.971573</td>\n",
       "      <td>40.679726</td>\n",
       "      <td>1</td>\n",
       "      <td>...</td>\n",
       "      <td>12.0</td>\n",
       "      <td>0.5</td>\n",
       "      <td>0.5</td>\n",
       "      <td>2.00</td>\n",
       "      <td>0.0</td>\n",
       "      <td>NaN</td>\n",
       "      <td>0.3</td>\n",
       "      <td>15.30</td>\n",
       "      <td>1</td>\n",
       "      <td>1.0</td>\n",
       "    </tr>\n",
       "    <tr>\n",
       "      <th>9</th>\n",
       "      <td>2</td>\n",
       "      <td>2016-01-01 00:28:59</td>\n",
       "      <td>2016-01-01 00:39:23</td>\n",
       "      <td>N</td>\n",
       "      <td>1</td>\n",
       "      <td>-73.914131</td>\n",
       "      <td>40.756641</td>\n",
       "      <td>-73.917549</td>\n",
       "      <td>40.739658</td>\n",
       "      <td>1</td>\n",
       "      <td>...</td>\n",
       "      <td>9.0</td>\n",
       "      <td>0.5</td>\n",
       "      <td>0.5</td>\n",
       "      <td>1.60</td>\n",
       "      <td>0.0</td>\n",
       "      <td>NaN</td>\n",
       "      <td>0.3</td>\n",
       "      <td>11.90</td>\n",
       "      <td>1</td>\n",
       "      <td>1.0</td>\n",
       "    </tr>\n",
       "  </tbody>\n",
       "</table>\n",
       "<p>10 rows × 21 columns</p>\n",
       "</div>"
      ],
      "text/plain": [
       "   VendorID lpep_pickup_datetime Lpep_dropoff_datetime Store_and_fwd_flag  \\\n",
       "0         2  2016-01-01 00:29:24   2016-01-01 00:39:36                  N   \n",
       "1         2  2016-01-01 00:19:39   2016-01-01 00:39:18                  N   \n",
       "2         2  2016-01-01 00:19:33   2016-01-01 00:39:48                  N   \n",
       "3         2  2016-01-01 00:22:12   2016-01-01 00:38:32                  N   \n",
       "4         2  2016-01-01 00:24:01   2016-01-01 00:39:22                  N   \n",
       "5         2  2016-01-01 00:32:59   2016-01-01 00:39:35                  N   \n",
       "6         2  2016-01-01 00:34:42   2016-01-01 00:39:21                  N   \n",
       "7         2  2016-01-01 00:31:23   2016-01-01 00:39:36                  N   \n",
       "8         2  2016-01-01 00:24:40   2016-01-01 00:39:52                  N   \n",
       "9         2  2016-01-01 00:28:59   2016-01-01 00:39:23                  N   \n",
       "\n",
       "   RateCodeID  Pickup_longitude  Pickup_latitude  Dropoff_longitude  \\\n",
       "0           1        -73.928642        40.680611         -73.924278   \n",
       "1           1        -73.952675        40.723175         -73.923920   \n",
       "2           1        -73.971611        40.676105         -74.013161   \n",
       "3           1        -73.989502        40.669579         -74.000648   \n",
       "4           1        -73.964729        40.682854         -73.940720   \n",
       "5           1        -73.891144        40.746456         -73.867744   \n",
       "6           1        -73.896675        40.746197         -73.886192   \n",
       "7           1        -73.953354        40.803558         -73.949150   \n",
       "8           1        -73.994064        40.702816         -73.971573   \n",
       "9           1        -73.914131        40.756641         -73.917549   \n",
       "\n",
       "   Dropoff_latitude  Passenger_count     ...      Fare_amount  Extra  MTA_tax  \\\n",
       "0         40.698044                1     ...              8.0    0.5      0.5   \n",
       "1         40.761379                1     ...             15.5    0.5      0.5   \n",
       "2         40.646072                1     ...             16.5    0.5      0.5   \n",
       "3         40.689034                1     ...             13.5    0.5      0.5   \n",
       "4         40.663013                1     ...             12.0    0.5      0.5   \n",
       "5         40.742111                1     ...              7.0    0.5      0.5   \n",
       "6         40.745689                1     ...              5.0    0.5      0.5   \n",
       "7         40.794121                1     ...              7.0    0.5      0.5   \n",
       "8         40.679726                1     ...             12.0    0.5      0.5   \n",
       "9         40.739658                1     ...              9.0    0.5      0.5   \n",
       "\n",
       "   Tip_amount  Tolls_amount  Ehail_fee  improvement_surcharge  Total_amount  \\\n",
       "0        1.86           0.0        NaN                    0.3         11.16   \n",
       "1        0.00           0.0        NaN                    0.3         16.80   \n",
       "2        4.45           0.0        NaN                    0.3         22.25   \n",
       "3        0.00           0.0        NaN                    0.3         14.80   \n",
       "4        0.00           0.0        NaN                    0.3         13.30   \n",
       "5        0.00           0.0        NaN                    0.3          8.30   \n",
       "6        0.00           0.0        NaN                    0.3          6.30   \n",
       "7        0.00           0.0        NaN                    0.3          8.30   \n",
       "8        2.00           0.0        NaN                    0.3         15.30   \n",
       "9        1.60           0.0        NaN                    0.3         11.90   \n",
       "\n",
       "   Payment_type  Trip_type   \n",
       "0             1         1.0  \n",
       "1             2         1.0  \n",
       "2             1         1.0  \n",
       "3             2         1.0  \n",
       "4             2         1.0  \n",
       "5             2         1.0  \n",
       "6             2         1.0  \n",
       "7             2         1.0  \n",
       "8             1         1.0  \n",
       "9             1         1.0  \n",
       "\n",
       "[10 rows x 21 columns]"
      ]
     },
     "execution_count": 5,
     "metadata": {},
     "output_type": "execute_result"
    }
   ],
   "source": [
    "currentDf.head(10)"
   ]
  },
  {
   "cell_type": "markdown",
   "metadata": {},
   "source": [
    "(EN) From this table I'm only going to use `['lpep_pickup_datetime']` column to get the pickup time information and, to get the location, I'll need `['Pickup_longitude']`, `['Pickup_latitude']` columns. So I'm going to create a reduced dataframe (rCurrentDf) with them.\n",
    "\n",
    "*(ES) De esta tabla solo necesitaré la columna `['lpep_pickup_datetime']` para obtener el momento de la recogidaa y, para la ubicación, necesitaré las columnas `['Pickup_longitude']`, `['Pickup_latitude']`. Así que voy a crear una tabla reducida (rCurrentDf) con las columnas mencionadas.*"
   ]
  },
  {
   "cell_type": "code",
   "execution_count": 6,
   "metadata": {},
   "outputs": [
    {
     "data": {
      "text/html": [
       "<div>\n",
       "<style scoped>\n",
       "    .dataframe tbody tr th:only-of-type {\n",
       "        vertical-align: middle;\n",
       "    }\n",
       "\n",
       "    .dataframe tbody tr th {\n",
       "        vertical-align: top;\n",
       "    }\n",
       "\n",
       "    .dataframe thead th {\n",
       "        text-align: right;\n",
       "    }\n",
       "</style>\n",
       "<table border=\"1\" class=\"dataframe\">\n",
       "  <thead>\n",
       "    <tr style=\"text-align: right;\">\n",
       "      <th></th>\n",
       "      <th>lpep_pickup_datetime</th>\n",
       "      <th>Pickup_longitude</th>\n",
       "      <th>Pickup_latitude</th>\n",
       "    </tr>\n",
       "  </thead>\n",
       "  <tbody>\n",
       "    <tr>\n",
       "      <th>0</th>\n",
       "      <td>2016-01-01 00:29:24</td>\n",
       "      <td>-73.928642</td>\n",
       "      <td>40.680611</td>\n",
       "    </tr>\n",
       "    <tr>\n",
       "      <th>1</th>\n",
       "      <td>2016-01-01 00:19:39</td>\n",
       "      <td>-73.952675</td>\n",
       "      <td>40.723175</td>\n",
       "    </tr>\n",
       "    <tr>\n",
       "      <th>2</th>\n",
       "      <td>2016-01-01 00:19:33</td>\n",
       "      <td>-73.971611</td>\n",
       "      <td>40.676105</td>\n",
       "    </tr>\n",
       "    <tr>\n",
       "      <th>3</th>\n",
       "      <td>2016-01-01 00:22:12</td>\n",
       "      <td>-73.989502</td>\n",
       "      <td>40.669579</td>\n",
       "    </tr>\n",
       "    <tr>\n",
       "      <th>4</th>\n",
       "      <td>2016-01-01 00:24:01</td>\n",
       "      <td>-73.964729</td>\n",
       "      <td>40.682854</td>\n",
       "    </tr>\n",
       "  </tbody>\n",
       "</table>\n",
       "</div>"
      ],
      "text/plain": [
       "  lpep_pickup_datetime  Pickup_longitude  Pickup_latitude\n",
       "0  2016-01-01 00:29:24        -73.928642        40.680611\n",
       "1  2016-01-01 00:19:39        -73.952675        40.723175\n",
       "2  2016-01-01 00:19:33        -73.971611        40.676105\n",
       "3  2016-01-01 00:22:12        -73.989502        40.669579\n",
       "4  2016-01-01 00:24:01        -73.964729        40.682854"
      ]
     },
     "execution_count": 6,
     "metadata": {},
     "output_type": "execute_result"
    }
   ],
   "source": [
    "rCurrentDf = pd.DataFrame(currentDf, columns=['lpep_pickup_datetime', 'Pickup_longitude', 'Pickup_latitude'])\n",
    "rCurrentDf.head()"
   ]
  },
  {
   "cell_type": "markdown",
   "metadata": {},
   "source": [
    "#### NaN or null values\n",
    "Let's look for null values, if any, and remove them.\n",
    "\n",
    "#### *NaN o valores nulos*\n",
    "*Vamos a buscar valores nulos y, si los hay, eliminarlos.*"
   ]
  },
  {
   "cell_type": "code",
   "execution_count": 7,
   "metadata": {},
   "outputs": [
    {
     "name": "stdout",
     "output_type": "stream",
     "text": [
      "Is in lpep_pickup_datetime any null value? False\n",
      "Is in Pickup_longitude any null value? False\n",
      "Is in Pickup_latitude any null value? False\n",
      "Total rows deleted: 0\n"
     ]
    }
   ],
   "source": [
    "rowsBefore = rCurrentDf.shape[0]\n",
    "for column in rCurrentDf:\n",
    "    print(\"Is in {} any null value?\".format(column), rCurrentDf[column].isnull().any())\n",
    "\n",
    "rCurrentDf.dropna()\n",
    "\n",
    "rowsAfter = rCurrentDf.shape[0]\n",
    "\n",
    "print(\"Total rows deleted:\", rowsBefore - rowsAfter)"
   ]
  },
  {
   "cell_type": "markdown",
   "metadata": {},
   "source": [
    "#### Data quality review\n",
    "Following [Google Maps](https://www.google.com/maps/place/Nueva+York,+EE.+UU./@40.6974034,-74.1197632,11z/data=!3m1!4b1!4m5!3m4!1s0x89c24fa5d33f083b:0xc80b8f06e177fe62!8m2!3d40.7127753!4d-74.0059728?hl=en), the New York area that I'm going to work is between -73 and -75 for longitude integer coordinates values and between 40 and 41 for latitud integer coordinates values, so I'm going to look for outliers using this criteria and remove them, if any, using filters. Notice that I'm rounding to integer values because of the lack of accuracy among float values.\n",
    "\n",
    "#### Otras revisiones sobre la calidad de los datos\n",
    "Según [Google Maps](https://www.google.com/maps/place/Nueva+York,+EE.+UU./@40.6974034,-74.1197632,11z/data=!3m1!4b1!4m5!3m4!1s0x89c24fa5d33f083b:0xc80b8f06e177fe62!8m2!3d40.7127753!4d-74.0059728?hl=es), el área de New York que sobre la que voy a trabajar está entre las coordenadas de -73 y -75 para la longitud y entre las coordenadas 40 y 41 para la latitud, basado en esto, voy a considerar el resto de coordenadas como despreciables y/o fuera de rango y, si las hay, las eliminaré usando filtros. Nótese que estoy redondeando a valores enteros por la falta de precisión en números decimales."
   ]
  },
  {
   "cell_type": "code",
   "execution_count": 8,
   "metadata": {
    "scrolled": true
   },
   "outputs": [
    {
     "name": "stdout",
     "output_type": "stream",
     "text": [
      "Max value in lpep_pickup_datetime is 2016-01-31 23:59:58, and min value is 2016-01-01 00:00:00\n",
      "Max value in Pickup_longitude is 0.0, and min value is -115.18130493164062\n",
      "Max value in Pickup_latitude is 43.168006896972656, and min value is 0.0\n"
     ]
    }
   ],
   "source": [
    "for eachColumn in rCurrentDf:\n",
    "    print(\"Max value in {} is {}, and min value is {}\".format(eachColumn, rCurrentDf[eachColumn].max(), \n",
    "                                                              rCurrentDf[eachColumn].min()))"
   ]
  },
  {
   "cell_type": "markdown",
   "metadata": {},
   "source": [
    "#### Cleaning using filters\n",
    "(EN) It seems that there are some outliers to filter. Here I'm going to use one time filtering in order to show the process step by step, a bit forward, I will use a module called operator that helps to use boolean operators between Pandas Series.\n",
    "\n",
    "#### *Limpieza usando filtros*\n",
    "*(ES) Al parecer, hay que filtrar algunos valores que están fuera de rango. Ahora usaré un filtro a la vez con la intención de mostrar el proceso paso a paso, un poco más adelante, usaré el módulo operator para hacer las comparaciones de operadores booleanas entre Series Pandas.*"
   ]
  },
  {
   "cell_type": "code",
   "execution_count": 9,
   "metadata": {},
   "outputs": [
    {
     "name": "stdout",
     "output_type": "stream",
     "text": [
      "Total rows deleted: 2649\n"
     ]
    }
   ],
   "source": [
    "rowsBefore = rCurrentDf.shape[0]\n",
    "\n",
    "colsToUse = ['lpep_pickup_datetime', 'Pickup_longitude', 'Pickup_latitude']\n",
    "\n",
    "secondColumnFiltering1 = rCurrentDf[colsToUse[1]] <= -73\n",
    "rCurrentDf = rCurrentDf[secondColumnFiltering1]\n",
    "\n",
    "secondColumnFiltering2 = rCurrentDf[colsToUse[1]] >= -75\n",
    "rCurrentDf = rCurrentDf[secondColumnFiltering2]\n",
    "\n",
    "thirdColumnFiltering1 = rCurrentDf[colsToUse[2]] <= 41\n",
    "rCurrentDf = rCurrentDf[thirdColumnFiltering1]\n",
    "\n",
    "thirdColumnFiltering2 = rCurrentDf[colsToUse[2]] >= 40\n",
    "rCurrentDf = rCurrentDf[thirdColumnFiltering2]\n",
    "\n",
    "rowsAfter = rCurrentDf.shape[0]\n",
    "print(\"Total rows deleted:\", rowsBefore - rowsAfter)\n"
   ]
  },
  {
   "cell_type": "code",
   "execution_count": 10,
   "metadata": {
    "scrolled": true
   },
   "outputs": [
    {
     "name": "stdout",
     "output_type": "stream",
     "text": [
      "Max value in lpep_pickup_datetime is 2016-01-31 23:59:58, and min value is 2016-01-01 00:00:00\n",
      "Max value in Pickup_longitude is -73.0094223022461, and min value is -74.9377670288086\n",
      "Max value in Pickup_latitude is 40.98804473876953, and min value is 40.06734848022461\n"
     ]
    }
   ],
   "source": [
    "# Let's run the same loop as before to see what values range we get now.\n",
    "# Vamos a ejecutar el mismo bucle/ciclo que antes para ver qué rango de valores obtenemos ahora.\n",
    "\n",
    "for eachColumn in rCurrentDf:\n",
    "    print(\"Max value in {} is {}, and min value is {}\".format(eachColumn, rCurrentDf[eachColumn].max(), \n",
    "                                                              rCurrentDf[eachColumn].min()))"
   ]
  },
  {
   "cell_type": "markdown",
   "metadata": {},
   "source": [
    "### Plotting\n",
    "In order to prepare the data for plotts I'm going to rearrange the information as follow:\n",
    "* Split the date-time column in date and time.\n",
    "* Create four dataframe grouping the hours along the day (from 23:01 to 05:00, 05:01 to 11:00, 11:01 to 17:00, 17:01 to 23:00), to each group I will assing a color (purple, green, yellow and orange respectively).\n",
    "\n",
    "### *Gráficos*\n",
    "*Con la intención de preparar los datos a graficar, voy a reacomodar la información de la siguiente manera:*\n",
    "* *Dividiré la columna de fecha-y-hora en una de fecha y otra de hora.*\n",
    "* *Crearé cuatro tablas agrupando las horas del día (de 23:01 a 05:00, 05:01 a 11:00, 11:01 a 17:00, 17:01 a 23:00), a cada grupo le asignaré un color (morado, verde, amarillo y naranja respectivamente).*"
   ]
  },
  {
   "cell_type": "code",
   "execution_count": 11,
   "metadata": {},
   "outputs": [],
   "source": [
    "rCurrentDf['Pickup_Date'], rCurrentDf['Pickup_Time'] = rCurrentDf['lpep_pickup_datetime'].str.split(' ').str\n",
    "rCurrentDf = rCurrentDf.drop('lpep_pickup_datetime', 1)\n",
    "rCurrentDf = rCurrentDf[['Pickup_Date', 'Pickup_Time', 'Pickup_longitude', 'Pickup_latitude']]"
   ]
  },
  {
   "cell_type": "code",
   "execution_count": 12,
   "metadata": {},
   "outputs": [],
   "source": [
    "nightDf = pd.DataFrame(rCurrentDf.loc[operator.or_(rCurrentDf['Pickup_Time'] >= '23:00:01', \n",
    "                                                   rCurrentDf['Pickup_Time'] <= '05:00:00')])\n",
    "\n",
    "morningDf = pd.DataFrame(rCurrentDf.loc[operator.and_(rCurrentDf['Pickup_Time'] >= '05:00:01', \n",
    "                                                      rCurrentDf['Pickup_Time'] <= '11:00:00')])\n",
    "\n",
    "middayDf = pd.DataFrame(rCurrentDf.loc[operator.and_(rCurrentDf['Pickup_Time'] >= '11:00:01', \n",
    "                                                     rCurrentDf['Pickup_Time'] <= '17:00:00')])\n",
    "\n",
    "afternoonDf = pd.DataFrame(rCurrentDf.loc[operator.and_(rCurrentDf['Pickup_Time'] >= '17:00:01', \n",
    "                                                        rCurrentDf['Pickup_Time'] <= '23:00:00')])"
   ]
  },
  {
   "cell_type": "markdown",
   "metadata": {},
   "source": [
    "(EN) To confirm that the process is ok, I'm going to compare the length of the 'main' dataset (rCurrentDf) and the sum of the length of the four subsets.\n",
    "\n",
    "*(ES) Para confirmar que el proceso está ok, voy a comparar la longitud de la tabla 'principal' (rCurrentDf) y la suma de las longitudes de las cuatro 'subtablas'.*"
   ]
  },
  {
   "cell_type": "code",
   "execution_count": 13,
   "metadata": {},
   "outputs": [
    {
     "name": "stdout",
     "output_type": "stream",
     "text": [
      "True 1442636 1442636 \n",
      "Difference is: 0\n"
     ]
    }
   ],
   "source": [
    "print(len(rCurrentDf)==(len(nightDf) + len(morningDf) + len(middayDf) + len(afternoonDf)), \n",
    "      len(rCurrentDf), (len(nightDf) + len(morningDf) + len(middayDf) + len(afternoonDf)), '\\n'\n",
    "     'Difference is:', len(rCurrentDf) - (len(nightDf) + len(morningDf) + len(middayDf) + len(afternoonDf)))"
   ]
  },
  {
   "cell_type": "markdown",
   "metadata": {},
   "source": [
    "(EN) And to confirm the dates and the range of dates, e.g. form 1 to 31 or 30.\n",
    "\n",
    "*(ES) Y para confirmar las fechas y los rangos de las fechas, por ejemplo, de 1 a 31 o 30.*"
   ]
  },
  {
   "cell_type": "code",
   "execution_count": 14,
   "metadata": {},
   "outputs": [
    {
     "name": "stdout",
     "output_type": "stream",
     "text": [
      "Number of days in 2016-01: 31\n",
      "2016-01-01\n",
      "2016-01-02\n",
      "2016-01-03\n",
      "2016-01-04\n",
      "2016-01-05\n",
      "2016-01-06\n",
      "2016-01-07\n",
      "2016-01-08\n",
      "2016-01-09\n",
      "2016-01-10\n",
      "2016-01-11\n",
      "2016-01-12\n",
      "2016-01-13\n",
      "2016-01-14\n",
      "2016-01-15\n",
      "2016-01-16\n",
      "2016-01-17\n",
      "2016-01-18\n",
      "2016-01-19\n",
      "2016-01-20\n",
      "2016-01-21\n",
      "2016-01-22\n",
      "2016-01-23\n",
      "2016-01-24\n",
      "2016-01-25\n",
      "2016-01-26\n",
      "2016-01-27\n",
      "2016-01-28\n",
      "2016-01-29\n",
      "2016-01-30\n",
      "2016-01-31\n"
     ]
    }
   ],
   "source": [
    "print(\"Number of days in {}:\".format(rCurrentDf['Pickup_Date'][1][0:7]), len(set(rCurrentDf['Pickup_Date'])))\n",
    "      \n",
    "for i in sorted(set(rCurrentDf['Pickup_Date'])):\n",
    "    print(i)"
   ]
  },
  {
   "cell_type": "code",
   "execution_count": 15,
   "metadata": {},
   "outputs": [],
   "source": [
    "# (EN) Adding a flag to each data subset\n",
    "# (ES) Le agrego un marcador a cada subconjunto\n",
    "\n",
    "nightDf['Horary']=\"Night\"\n",
    "morningDf['Horary']=\"Morning\"\n",
    "middayDf['Horary']=\"Midday\"\n",
    "afternoonDf['Horary']=\"Afternoon\""
   ]
  },
  {
   "cell_type": "code",
   "execution_count": 16,
   "metadata": {},
   "outputs": [],
   "source": [
    "# (EN) I'm going to concatenate all the 'subtables', to have it as cleaned labeled data.\n",
    "# (ES) Voy a apilar/concatenar todas las 'subtablas', para tenerlas como información limpia y etiquetada.\n",
    "\n",
    "allDayDF = pd.concat([nightDf, morningDf, middayDf, afternoonDf])"
   ]
  },
  {
   "cell_type": "code",
   "execution_count": 18,
   "metadata": {},
   "outputs": [],
   "source": [
    "# Here I'm saving the cleaned information into a new .csv file (2016-01_allDayDF.csv).\n",
    "# Aquí estoy guardando la información que ha sido limpiada en un archivo .csv nuevo (2016-01_allDayDF.csv).\n",
    "\n",
    "allDayDF.to_csv(\"{}_allDayDF.csv\".format(rCurrentDf['Pickup_Date'][1][0:7]))"
   ]
  },
  {
   "cell_type": "code",
   "execution_count": 17,
   "metadata": {},
   "outputs": [
    {
     "data": {
      "text/html": [
       "<div>\n",
       "<style scoped>\n",
       "    .dataframe tbody tr th:only-of-type {\n",
       "        vertical-align: middle;\n",
       "    }\n",
       "\n",
       "    .dataframe tbody tr th {\n",
       "        vertical-align: top;\n",
       "    }\n",
       "\n",
       "    .dataframe thead th {\n",
       "        text-align: right;\n",
       "    }\n",
       "</style>\n",
       "<table border=\"1\" class=\"dataframe\">\n",
       "  <thead>\n",
       "    <tr style=\"text-align: right;\">\n",
       "      <th></th>\n",
       "      <th>Pickup_Date</th>\n",
       "      <th>Pickup_Time</th>\n",
       "      <th>Pickup_longitude</th>\n",
       "      <th>Pickup_latitude</th>\n",
       "      <th>Horary</th>\n",
       "    </tr>\n",
       "  </thead>\n",
       "  <tbody>\n",
       "    <tr>\n",
       "      <th>1443541</th>\n",
       "      <td>2016-01-31</td>\n",
       "      <td>22:00:30</td>\n",
       "      <td>-73.971001</td>\n",
       "      <td>40.684914</td>\n",
       "      <td>Afternoon</td>\n",
       "    </tr>\n",
       "    <tr>\n",
       "      <th>1443542</th>\n",
       "      <td>2016-01-31</td>\n",
       "      <td>22:00:24</td>\n",
       "      <td>-73.939156</td>\n",
       "      <td>40.805473</td>\n",
       "      <td>Afternoon</td>\n",
       "    </tr>\n",
       "    <tr>\n",
       "      <th>1443543</th>\n",
       "      <td>2016-01-31</td>\n",
       "      <td>22:55:20</td>\n",
       "      <td>-73.950447</td>\n",
       "      <td>40.721844</td>\n",
       "      <td>Afternoon</td>\n",
       "    </tr>\n",
       "    <tr>\n",
       "      <th>1443544</th>\n",
       "      <td>2016-01-31</td>\n",
       "      <td>22:55:20</td>\n",
       "      <td>-73.950447</td>\n",
       "      <td>40.721844</td>\n",
       "      <td>Afternoon</td>\n",
       "    </tr>\n",
       "    <tr>\n",
       "      <th>1443545</th>\n",
       "      <td>2016-01-31</td>\n",
       "      <td>22:33:02</td>\n",
       "      <td>-73.993820</td>\n",
       "      <td>40.686413</td>\n",
       "      <td>Afternoon</td>\n",
       "    </tr>\n",
       "  </tbody>\n",
       "</table>\n",
       "</div>"
      ],
      "text/plain": [
       "        Pickup_Date Pickup_Time  Pickup_longitude  Pickup_latitude     Horary\n",
       "1443541  2016-01-31    22:00:30        -73.971001        40.684914  Afternoon\n",
       "1443542  2016-01-31    22:00:24        -73.939156        40.805473  Afternoon\n",
       "1443543  2016-01-31    22:55:20        -73.950447        40.721844  Afternoon\n",
       "1443544  2016-01-31    22:55:20        -73.950447        40.721844  Afternoon\n",
       "1443545  2016-01-31    22:33:02        -73.993820        40.686413  Afternoon"
      ]
     },
     "execution_count": 17,
     "metadata": {},
     "output_type": "execute_result"
    }
   ],
   "source": [
    "allDayDF.tail()"
   ]
  },
  {
   "cell_type": "code",
   "execution_count": 29,
   "metadata": {},
   "outputs": [
    {
     "data": {
      "image/png": "[encoded data removed]",
      "text/plain": [
       "<Figure size 1008x720 with 1 Axes>"
      ]
     },
     "metadata": {},
     "output_type": "display_data"
    }
   ],
   "source": [
    "# Plotting early morning group services.\n",
    "# Gráfico del grupo de servicios de madrugada.\n",
    "\n",
    "plt.scatter(nightDf['Pickup_longitude'], nightDf['Pickup_latitude'], c='purple', alpha = 0.2)\n",
    "plt.xlim(-75, -73)\n",
    "plt.xlabel('Longitude')\n",
    "plt.ylim(40, 41)\n",
    "plt.ylabel('Latitude')\n",
    "plt.title('Requested taxi night services for {}'.format(rCurrentDf['Pickup_Date'][1][0:7]))\n",
    "plt.rcParams['figure.figsize'] = [14, 10]\n",
    "plt.grid(True)\n",
    "plt.show()"
   ]
  },
  {
   "cell_type": "code",
   "execution_count": 30,
   "metadata": {},
   "outputs": [
    {
     "data": {
      "image/png": "[encoded data removed]",
      "text/plain": [
       "<Figure size 1008x720 with 1 Axes>"
      ]
     },
     "metadata": {},
     "output_type": "display_data"
    }
   ],
   "source": [
    "# Plotting morning group services.\n",
    "# Gráfico del grupo de servicios matutinos.\n",
    "\n",
    "plt.scatter(morningDf['Pickup_longitude'], morningDf['Pickup_latitude'], c='g', alpha = 0.2)\n",
    "plt.xlim(-75, -73)\n",
    "plt.xlabel('Longitude')\n",
    "plt.ylim(40, 41)\n",
    "plt.ylabel('Latitude')\n",
    "plt.title('Requested taxi morning services for {}'.format(rCurrentDf['Pickup_Date'][1][0:7]))\n",
    "plt.rcParams['figure.figsize'] = [14, 10]\n",
    "plt.grid(True)\n",
    "plt.show()"
   ]
  },
  {
   "cell_type": "code",
   "execution_count": 31,
   "metadata": {},
   "outputs": [
    {
     "data": {
      "image/png": "[encoded data removed]",
      "text/plain": [
       "<Figure size 1008x720 with 1 Axes>"
      ]
     },
     "metadata": {},
     "output_type": "display_data"
    }
   ],
   "source": [
    "# Plotting midday group services.\n",
    "# Gráfico del grupo de servicios vespertinos.\n",
    "\n",
    "plt.scatter(middayDf['Pickup_longitude'], middayDf['Pickup_latitude'], c='orange', alpha = 0.2)\n",
    "plt.xlim(-75, -73)\n",
    "plt.xlabel('Longitude')\n",
    "plt.ylim(40, 41)\n",
    "plt.ylabel('Latitude')\n",
    "plt.title('Requested taxi midday services for {}'.format(rCurrentDf['Pickup_Date'][1][0:7]))\n",
    "plt.rcParams['figure.figsize'] = [14, 10]\n",
    "plt.grid(True)\n",
    "plt.show()"
   ]
  },
  {
   "cell_type": "code",
   "execution_count": 32,
   "metadata": {},
   "outputs": [
    {
     "data": {
      "image/png": "[encoded data removed]",
      "text/plain": [
       "<Figure size 1008x720 with 1 Axes>"
      ]
     },
     "metadata": {},
     "output_type": "display_data"
    }
   ],
   "source": [
    "# Plotting afternoon group services.\n",
    "# Gráfico del grupo de servicios tarde-noche.\n",
    "\n",
    "plt.scatter(afternoonDf['Pickup_longitude'], afternoonDf['Pickup_latitude'], c='orangered', alpha = 0.2)\n",
    "plt.xlim(-75, -73)\n",
    "plt.xlabel('Longitude')\n",
    "plt.ylim(40, 41)\n",
    "plt.ylabel('Latitude')\n",
    "plt.title('Requested taxi afternoon services for {}'.format(rCurrentDf['Pickup_Date'][1][0:7]))\n",
    "plt.rcParams['figure.figsize'] = [14, 10]\n",
    "plt.grid(True)\n",
    "plt.show()"
   ]
  },
  {
   "cell_type": "markdown",
   "metadata": {},
   "source": [
    "### Analysis and Report comments\n",
    "Even when this is just one month of 2016, and the whole data set over which I will run this code is composed of more than twenty four month, you can see that there are some services request that only occur during midday and afternoon horaries in the surrounding area of New York city. \n",
    "\n",
    "It might be an interesting information to analyze in depth. Is it because the amount of taxis for that area are not enough? Is it because they are living their vehicles at home to go to NY city to have a drink? dinner? Is it because taxi drivers are looking to get out from traffic? from competitors?\n",
    "\n",
    "It might seems obvious but it is important to note the obvious things as well, sometimes plotts confirms a theory, sometimes not. In this case, it's quite clear that taxicabs services are requested 24h a day, which could be a source of waeknees or strength. Let's suppose that they start a strike, certainly would cause a collapse, something to be aware of. Let's suppose that the government wants to spread out an important communication, they are a great option for that as well.\n",
    "\n",
    "In a real-world scenario, the approaching of the analysis and report comments would depend on who are asking you to do this analysis and the initial hypothesis to investigate.\n",
    "\n",
    "### Reporte y comentarios sobre el análisis\n",
    "Aunque aquí trato los datos de un mes del 2016 solamente, y el conjunto entero de datos a tratar son más de veinticuatro meses, se puede observar que, en los alrededores de la ciudad de New York hay ciertos servicios de taxi que se solicitan solamente durante las horas del medio día y las horas de la tarde-noche.\n",
    "\n",
    "Esta información podría ser interesante analizarla con mayor profundidad. ¿Puede ser que la cantidad de taxis para dicha área sea insuficiente?, ¿Podría ser que las personas quieren dejar sus coches en casa para ir la ciudad a tomar algo? a cenar? ¿Será porque los conductores de dichos taxis quieren evitar el tráfico? o evitar la competencia?\n",
    "\n",
    "Puede parecer obvio, pero en ocasiones es importante observar las obviedades también, a veces los gráficos confirman una teoría, a veces no. En este caso, es bastante evidente que los servicios de taxi en la ciudad de New York se solicitan las 24h del día, esto podría convertirse en una debilidad o en una fortaleza según el caso. Supongamos que inician una huelga, sin lugar a dudas crearían un colapso, algo a tener en cuenta. Supongamos que el govierno quiere difundir una información importante, serían una excelente opción a considerar.\n",
    "\n",
    "En un escenario laboral real, el enfoque del análisis y los comentarios del reporte dependerán en gran medida de quién está solicitando dicho análisis y la hipótesis inicial para su realización."
   ]
  },
  {
   "cell_type": "markdown",
   "metadata": {},
   "source": [
    "### Process automation\n",
    "Since a notebook like this is intended to comment-and-run the process through its phases, I will load to the repository a .py file with the code that follows this structure with some additional commands from the **os** module that I'm using to create folders, to generate run-report files and files in which I will save the plotts, basically things like that.\n",
    "\n",
    "### Automatización del proceso\n",
    "Ya que la esencia de una herramienta como esta (Jupyter notebooks) es la de comentar el código conforme se va avanzando en las etapas del mismo y sus ejecuciones, subiré un archivo .py al repositorio con la misma estructura aquí presente, pero incrustada entre comandos del módulo **os** que usaré para crear carpetas, para crear archivos-reporte de las ejecuciones, guardar los gráficos y cosas por el estilo."
   ]
  },
  {
   "cell_type": "markdown",
   "metadata": {},
   "source": [
    "### From Data to Database using SQLite3\n",
    "In this example, the source file was a .csv file and data munging process was done using Pandas, however, in many cases is useful creating or feeding a database with the information gathered once it's clean and neat. And that's what I'll do in the following section.\n",
    "\n",
    "### *De archivo de Datos a Base de Datos usando SQLite3*\n",
    "*En este ejemplo, la fuente de los datos han sido archivos .csv y todo el proceso de transformación de la información se ha hecho usando Pandas, sin embargo, en muchos casos resulta útil crear o alimentar una base de datos con la información obtenida una vez que se ha limpiado y ordenado. Eso es lo que haré en la siguiente sección.*"
   ]
  },
  {
   "cell_type": "markdown",
   "metadata": {},
   "source": [
    "#### Creating the Database\n",
    "With the following, if the Database file that I'm specifying inside double quotes doesn't exists it will create it. At the same time I'm creating a connection to the Database, and a cursor (c) which will be used to interact with the Database.\n",
    "\n",
    "#### *Crear una Base de Datos*\n",
    "*En el código a continuación, si la Base de Datos que estoy especificando entre comillas no existe, se creará automáticamente. Al mismo tiempo, crearé la conexión a la Base de Datos y un cursor (c) que usaré para interactuar con la misma.*"
   ]
  },
  {
   "cell_type": "code",
   "execution_count": 58,
   "metadata": {},
   "outputs": [],
   "source": [
    "conn = sqlite3.connect(\"{}_Data.sqlite3\".format(rCurrentDf['Pickup_Date'][1][0:7]))\n",
    "c = conn.cursor()"
   ]
  },
  {
   "cell_type": "markdown",
   "metadata": {},
   "source": [
    "#### Feeding the Database\n",
    "Now I will feed the Database with the tables (DataFrames) I have created earlier. To do that I will use the following code:\n",
    "\n",
    "`DataFrameName.to_sql(name=\"tableName\", con=valueOfConnection)`\n",
    "    \n",
    "If I were about to feed an existing table in a Database, one more argument must be added, e.g.\n",
    "\n",
    "`DataFrameName.to_sql(name=\"tableName\", con=valueOfConnection, if_exists='append')`\n",
    "\n",
    "#### *Agregar las tablas a la Base de Datos*\n",
    "*Ahora alimentaré la Base de Datos con las tablas (DataFrames) que he creado anteriormente. Para ello usaré el siguiente código:*\n",
    "\n",
    "`DataFrameName.to_sql(name=\"tableName\", con=valueOfConnection)`\n",
    "\n",
    "*Si quisiera alimentar una tabla ya existente de una Base de Datos, tendría que agregar otro argumento, por ejemplo:*\n",
    "\n",
    "`DataFrameName.to_sql(name=\"tableName\", con=valueOfConnection, if_exists='append')`"
   ]
  },
  {
   "cell_type": "code",
   "execution_count": 59,
   "metadata": {},
   "outputs": [],
   "source": [
    "nightDf.to_sql(name=\"Night_Table\", con=sqlite3.connect(\"{}_Data.sqlite3\".format(rCurrentDf['Pickup_Date'][1][0:7])))\n",
    "morningDf.to_sql(name=\"Morning_Table\", con=sqlite3.connect(\"{}_Data.sqlite3\".format(rCurrentDf['Pickup_Date'][1][0:7])))\n",
    "middayDf.to_sql(name=\"Midday_Table\", con=sqlite3.connect(\"{}_Data.sqlite3\".format(rCurrentDf['Pickup_Date'][1][0:7])))\n",
    "afternoonDf.to_sql(name=\"Afternoon_Table\", con=sqlite3.connect(\"{}_Data.sqlite3\".format(rCurrentDf['Pickup_Date'][1][0:7])))"
   ]
  },
  {
   "cell_type": "markdown",
   "metadata": {},
   "source": [
    "(EN) To confirm that all tables were added, we can use the following.\n",
    "\n",
    "*(ES) Para confirmar que todas las tablas se agregaron, podemos usar el siguiente código.*"
   ]
  },
  {
   "cell_type": "code",
   "execution_count": 60,
   "metadata": {},
   "outputs": [
    {
     "name": "stdout",
     "output_type": "stream",
     "text": [
      "[('Night_Table',), ('Morning_Table',), ('Midday_Table',), ('Afternoon_Table',)]\n"
     ]
    }
   ],
   "source": [
    "c.execute(\"\"\"\n",
    "SELECT name FROM sqlite_master\n",
    "WHERE type='table';\n",
    "\"\"\")\n",
    "print(c.fetchall())"
   ]
  },
  {
   "cell_type": "markdown",
   "metadata": {},
   "source": [
    "(EN) And, for example, if we want to see the name of the columns to double-check the order of them in the Database table, we can do the following.\n",
    "\n",
    "*(ES) Y, por ejemplo, si queremos ver el nombre de las columnas para confirmar que se hayan agregado en el orden correcto, podemos hacer lo siguiente.*"
   ]
  },
  {
   "cell_type": "code",
   "execution_count": 62,
   "metadata": {},
   "outputs": [
    {
     "name": "stdout",
     "output_type": "stream",
     "text": [
      "index, Pickup_Date, Pickup_Time, Pickup_longitude, Pickup_latitude, Horary, "
     ]
    }
   ],
   "source": [
    "c.execute(\"\"\"\n",
    "SELECT * FROM Night_Table\n",
    "\"\"\")\n",
    "row = c.fetchone()\n",
    "for i in c.description:\n",
    "    print(i[0]+\", \", end=\"\")"
   ]
  },
  {
   "cell_type": "markdown",
   "metadata": {},
   "source": [
    "(EN) Finally we must commit and close our connection as follow.\n",
    "\n",
    "*(ES) Finalmente debemos ejecutar el comando `.commit()` para \"fijar\" los cambios realizados y cerrar la conexión.*"
   ]
  },
  {
   "cell_type": "code",
   "execution_count": null,
   "metadata": {},
   "outputs": [],
   "source": [
    "c.close()\n",
    "\n",
    "conn.commit()\n",
    "conn.close()"
   ]
  },
  {
   "cell_type": "markdown",
   "metadata": {},
   "source": [
    "### Ending\n",
    "Just as an additional comment, the file created as Database by the SQLite3 command has 100MB and the one created by the csv command has 100MB as well.\n",
    "\n",
    "### *Final*\n",
    "*Solo como comentario adicional, el archivo creado como Base de Datos por el comando de SQLite3 tiene 100MB y el creado por el comando csv también tiene 100MB.*"
   ]
  }
 ],
 "metadata": {
  "kernelspec": {
   "display_name": "Python 3",
   "language": "python",
   "name": "python3"
  },
  "language_info": {
   "codemirror_mode": {
    "name": "ipython",
    "version": 3
   },
   "file_extension": ".py",
   "mimetype": "text/x-python",
   "name": "python",
   "nbconvert_exporter": "python",
   "pygments_lexer": "ipython3",
   "version": "3.7.0"
  }
 },
 "nbformat": 4,
 "nbformat_minor": 2
}
